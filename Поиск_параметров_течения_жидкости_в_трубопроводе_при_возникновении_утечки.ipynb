{
  "nbformat": 4,
  "nbformat_minor": 0,
  "metadata": {
    "colab": {
      "name": "Поиск параметров течения жидкости в трубопроводе при возникновении утечки.ipynb",
      "provenance": [],
      "authorship_tag": "ABX9TyMq//vRX0OqsFtay1FS3UGC",
      "include_colab_link": true
    },
    "kernelspec": {
      "name": "python3",
      "display_name": "Python 3"
    }
  },
  "cells": [
    {
      "cell_type": "markdown",
      "metadata": {
        "id": "view-in-github",
        "colab_type": "text"
      },
      "source": [
        "<a href=\"https://colab.research.google.com/github/antontmur/ld_sensitivity/blob/master/%D0%9F%D0%BE%D0%B8%D1%81%D0%BA_%D0%BF%D0%B0%D1%80%D0%B0%D0%BC%D0%B5%D1%82%D1%80%D0%BE%D0%B2_%D1%82%D0%B5%D1%87%D0%B5%D0%BD%D0%B8%D1%8F_%D0%B6%D0%B8%D0%B4%D0%BA%D0%BE%D1%81%D1%82%D0%B8_%D0%B2_%D1%82%D1%80%D1%83%D0%B1%D0%BE%D0%BF%D1%80%D0%BE%D0%B2%D0%BE%D0%B4%D0%B5_%D0%BF%D1%80%D0%B8_%D0%B2%D0%BE%D0%B7%D0%BD%D0%B8%D0%BA%D0%BD%D0%BE%D0%B2%D0%B5%D0%BD%D0%B8%D0%B8_%D1%83%D1%82%D0%B5%D1%87%D0%BA%D0%B8.ipynb\" target=\"_parent\"><img src=\"https://colab.research.google.com/assets/colab-badge.svg\" alt=\"Open In Colab\"/></a>"
      ]
    },
    {
      "cell_type": "markdown",
      "metadata": {
        "id": "cZoDYkxDSNBX",
        "colab_type": "text"
      },
      "source": [
        "# Часть 1. Теория"
      ]
    },
    {
      "cell_type": "markdown",
      "metadata": {
        "id": "SBsQzlCJK8MP",
        "colab_type": "text"
      },
      "source": [
        "###  Постановка задачи\n",
        "\n",
        "Задача состоит в том, чтобы оценить влияние утечки на показатели течения (напор, объёмный расход) в участке трубопровода.\n",
        "\n",
        "**Входные данные**\n",
        "- координаты начала и конца трубопровода (*x_start, y_start*)\n",
        "- давление, пересчитанное в единицы напора [м] (с учётом высотных отметок) в начале и конце трубопровода (*H_start, H_end*)\n",
        "- единый эффективный диаметр трубопровода (*diameter*)\n",
        "- кинематитческая вязкость нефти (*viscosity*)\n",
        "- координата и объёмный расход утечки (*x_leak, q_leak*)\n",
        "\n",
        "**Выходные данные**\n",
        "- значения объёмного расхода до и после утечки (*q_before, q_after*)\n",
        "- установившийся профиль напора вдоль трубопровода без утечки/с утечкой\n"
      ]
    },
    {
      "cell_type": "markdown",
      "metadata": {
        "id": "YOmV3nayYjI9",
        "colab_type": "text"
      },
      "source": [
        "## Решение"
      ]
    },
    {
      "cell_type": "markdown",
      "metadata": {
        "id": "HDwfcfNPST89",
        "colab_type": "text"
      },
      "source": [
        "### Уравнение Дарси-Вейсбаха\n",
        "![Замещающий текст](https://downloader.disk.yandex.ru/preview/41b2bfadf85ffea6e060b110621da8814c79e61ddf56e70a8b29ab8cec143a44/5f2ada9c/qJMk9TfqPxi054qImRgb4-beCnsXSyHLBErgVX5dULR3R3P9D7w3CLoeRx1HzGCXQiWDGnbLBOXqluCk2wY8ZA==?uid=0&filename=Profile.png&disposition=inline&hash=&limit=0&content_type=image%2Fpng&tknv=v2&owner_uid=14121831&size=1920x939)\n",
        "\n",
        "Установившийся режим течения в трубопроводе описывается уравнением Дарси-Вейсбаха:\n",
        "$$\n",
        "H_{start}-H_{end} = \\lambda \\frac{u^2}{2gD}L,\n",
        "$$\n",
        "где $H_{start}, H_{end}$ - напор в начале и конце трубопровода, $D, L$ - диаметр и длина трубопровода, $u$ - линейная скорость течения вдоль трубопровода, $g$ - ускорение свободного падения, $\\lambda$ - коэффициент трения, рассчитываемый по формуле Блазиуса:\n",
        "$$\n",
        "\\lambda = \\frac{0.3164}{\\sqrt[4]{uD/\\nu}}\n",
        "$$\n",
        "где $\\nu$ - кинематическая вязкость.\n",
        "\n",
        "Объединяя эти два уравнения и переходя от скорости к объёмному расходу $Q$ через формулу:\n",
        "$$\n",
        "Q = u\\frac{\\pi D^2}{4}\n",
        "$$\n",
        "получим:\n",
        "$$\n",
        "H_{start}-H_{end} = \\beta \\frac{Q^{7/4} \\nu^{7/4}}{D^{19/4}}L,\n",
        "$$ \n",
        "где $beta$ - постоянная величина, равная:\n",
        "$$\n",
        "\\beta = \\frac{0.3164 \\cdot 4^{7/4}}{2g \\pi^{7/4}}\n",
        "$$"
      ]
    },
    {
      "cell_type": "markdown",
      "metadata": {
        "id": "t5ZhX1dQYmxx",
        "colab_type": "text"
      },
      "source": [
        "### Система уравнений\n",
        "![Замещающий текст](https://downloader.disk.yandex.ru/preview/9f6c9c2c6b362d43abfad4ede02256bb191e2e9f1f3d827d211a9d9e7a08b0a7/5f2adbe4/6LFIo_vvGbZ9mOF5sOr9TGVksOAO3th48xOboU6An8DAiHnYHJOXzjYHrMW-NDV72CWIpiad9rZi2XmC5z4Gbw==?uid=0&filename=Profile+with+leak.png&disposition=inline&hash=&limit=0&content_type=image%2Fpng&tknv=v2&owner_uid=14121831&size=1920x939)\n",
        "\n",
        "Трубопровод без утечки подчиняется уравнению Дарси-Вейсбаха в чистом виде.\n",
        "Трубопровод с утечкой можно условно разбить на два участка:\n",
        "- участок до утечки с расходом $q_{before}$ \n",
        "- участок после утечки с расходом $q_{after}$ \n",
        "\n",
        "Каждый из этих участков описывается нелинейным уравнением Дарси-Вейсбаха:\n",
        "$$\n",
        "f_1 = f_{Darcy}(x_{start}, x_{leak}, H_{start}, H_{leak}, q_{before}) = 0\n",
        "$$\n",
        "$$\n",
        "f_2 = f_{Darcy}(x_{leak}, x_{end}, H_{leak}, H_{end}, q_{after}) = 0\n",
        "$$\n",
        "Третьим уравнением является уравнение, связывающее объёмные расходы для точки утечки:\n",
        "$$\n",
        "f_3 = q_{before}-q_{after}-q_{leak} = 0\n",
        "$$\n",
        "\n",
        "Итого имеем три уравнения (два из которых нелинейные) и три варьируемых параметра:\n",
        "- расход до утечки $q_{before}$\n",
        "- расход после утечки $q_{after}$\n",
        "- напор в точке утечки $H_{leak}$\n",
        "\n",
        "Решим эту систему нелинейных уравнений с помощтю функции fsolve библиотеки scipy."
      ]
    },
    {
      "cell_type": "markdown",
      "metadata": {
        "id": "MnYRo2kQQMRF",
        "colab_type": "text"
      },
      "source": [
        "# Часть 2. Код"
      ]
    },
    {
      "cell_type": "code",
      "metadata": {
        "id": "O0Wg5mNWLXh-",
        "colab_type": "code",
        "colab": {}
      },
      "source": [
        "# импортируем необходимое\n",
        "from math import pow, pi\n",
        "from scipy.optimize import fsolve\n",
        "from matplotlib import pyplot as plt"
      ],
      "execution_count": null,
      "outputs": []
    },
    {
      "cell_type": "markdown",
      "metadata": {
        "id": "JhXWpQR5LZA3",
        "colab_type": "text"
      },
      "source": [
        "### Уравнение Дарси-Вейсбаха для участка трубопровода\n"
      ]
    },
    {
      "cell_type": "code",
      "metadata": {
        "id": "EmjGftDXLXYW",
        "colab_type": "code",
        "colab": {}
      },
      "source": [
        "const_beta = 0.3164 * pow(4, 7 / 4) / (2 * 9.80665 * pow(pi, 7 / 4))\n",
        "\n",
        "class Darcy_Weisbach:\n",
        "    \"\"\"Класс, рассчитывающий течение в участке трубы в установившемся режиме.\n",
        "    Описывается уравнением Дарси-Вейсбаха.\"\"\"\n",
        "\n",
        "    def __init__(self, diameter, viscosity):\n",
        "        self.diameter = diameter\n",
        "        self.viscosity = viscosity\n",
        "\n",
        "    def calc_consumption(self, x_start, x_end, H_start, H_end):\n",
        "        # Расчёт объёмного расхода по заданным координатам начала/конца и напора в них\n",
        "        delta_H = H_start - H_end\n",
        "        delta_x = x_end - x_start\n",
        "        q7 = pow(delta_H, 4) * pow(self.diameter, 19) / (pow(const_beta, 4) * self.viscosity * pow(delta_x, 4))\n",
        "        return pow(q7, 1 / 7)\n",
        "\n",
        "    def calc_deltah(self, x_start, x_end, q):\n",
        "        # Расчёт перепада напора по заданному расходу и координатам начала/конца\n",
        "        delta_x = x_end - x_start\n",
        "        deltah = const_beta * pow(pow(q, 7) * self.viscosity / pow(self.diameter, 19), 0.25) * delta_x\n",
        "        return deltah"
      ],
      "execution_count": null,
      "outputs": []
    },
    {
      "cell_type": "code",
      "metadata": {
        "id": "c3eILB4PMSFe",
        "colab_type": "code",
        "colab": {
          "base_uri": "https://localhost:8080/",
          "height": 51
        },
        "outputId": "45fea6ab-13ce-471e-871c-928ac57ef50a"
      },
      "source": [
        "# Проверим\n",
        "dw = Darcy_Weisbach(1.0, 1e-5)\n",
        "q = dw.calc_consumption(0, 368000, 550.0, 50.0)\n",
        "print(\"Трубопровод с диаметром 1.0 м и длиной 368 км; вязкость 10 сСт, перепад напора 500 м\")\n",
        "print(\"Получаемый расход: \", q*3600, \" м3/ч\")"
      ],
      "execution_count": null,
      "outputs": [
        {
          "output_type": "stream",
          "text": [
            "Трубопровод с диаметром 1.0 м и длиной 368 км; вязкость 10 сСт, перепад напора 500 м\n",
            "Получаемый расход:  3561.572122557628  м3/ч\n"
          ],
          "name": "stdout"
        }
      ]
    },
    {
      "cell_type": "markdown",
      "metadata": {
        "id": "5uO4nRJfNWjI",
        "colab_type": "text"
      },
      "source": [
        "### Построение уравнений для задачи оптимизации"
      ]
    },
    {
      "cell_type": "code",
      "metadata": {
        "id": "ThLIzMOVN7Dh",
        "colab_type": "code",
        "colab": {}
      },
      "source": [
        "def equations(p, *args):\n",
        "    dw, H_start, H_end, x_leak, q_leak, x_start, x_end = args\n",
        "\n",
        "    # разворачиваем вектор переменных\n",
        "    q_before, q_after, H_leak = p  \n",
        "\n",
        "    # Уравнение 1. Раход до утечки равен qbefore\n",
        "    eq1 = q_before - dw.calc_consumption(x_start, x_leak, H_start, H_leak)\n",
        "    \n",
        "    # Уравнение 2. Расход после утечки равен qafter\n",
        "    eq2 = q_after - dw.calc_consumption(x_leak, x_end, H_leak, H_end)\n",
        "    \n",
        "    # Уравнение 3. Разность расходов до и после утечки равна расходу самой утечки\n",
        "    eq3 = q_before - q_after - q_leak\n",
        "\n",
        "    return (eq1, eq2, eq3)"
      ],
      "execution_count": null,
      "outputs": []
    },
    {
      "cell_type": "code",
      "metadata": {
        "id": "67wWRmprOlWf",
        "colab_type": "code",
        "colab": {}
      },
      "source": [
        "# вспомогательная функция линейной интерполяции\n",
        "def interpolate(x_start, x_end, y_start, y_end, x_in):\n",
        "    return y_start * (x_end-x_in) / (x_end-x_start) + y_end * (x_in - x_start) / (x_end-x_start)"
      ],
      "execution_count": null,
      "outputs": []
    },
    {
      "cell_type": "code",
      "metadata": {
        "id": "7Yw6tvvjOycr",
        "colab_type": "code",
        "colab": {}
      },
      "source": [
        "def find_leak_parameters(x_start, x_end, diameter, viscosity, H_start, H_end, x_leak, q_leak):\n",
        "\n",
        "    if not (x_start <= x_leak <= x_end):\n",
        "      print(\"Некорректная координата утечки.\")\n",
        "      return False, 0, 0, 0, 0, 0\n",
        "    \n",
        "    dw = Darcy_Weisbach(diameter, viscosity)\n",
        "\n",
        "    # Рассчитаем объёмный расход жидкости в трубопроводе без утечки\n",
        "    q_noleak = dw.calc_consumption(x_start, x_end, H_start, H_end)\n",
        "    \n",
        "    # Напор в точке утечки в момент, когда утечки ещё нет\n",
        "    H_noleak = interpolate(x_start, x_end, H_start, H_end, x_leak)\n",
        "        \n",
        "    # Начальное приближение и параметры вектор-функции\n",
        "    zero_appr = (q_noleak+q_leak/2, q_noleak-q_leak/2, H_noleak)\n",
        "    fargs = (dw, H_start, H_end, x_leak, q_leak, x_start, x_end)\n",
        "\n",
        "    # Решение системы нелинейных уравнений\n",
        "    p, infodict, ier, mesg = fsolve(equations, zero_appr, args=fargs, full_output=True)\n",
        "    q_before, q_after, H_leak = p\n",
        "\n",
        "    if ier is not 1:\n",
        "      print(\"Решение не найдено. Сообщение об ошибке: \", mesg)\n",
        "      return False, 0, 0, 0, 0, 0\n",
        "\n",
        "    return True, q_before, q_after, q_noleak, H_leak, H_noleak"
      ],
      "execution_count": null,
      "outputs": []
    },
    {
      "cell_type": "markdown",
      "metadata": {
        "id": "kLZw6Q-cMReA",
        "colab_type": "text"
      },
      "source": [
        "# Часть 3. Тест"
      ]
    },
    {
      "cell_type": "code",
      "metadata": {
        "id": "uU6VeyTXcpsB",
        "colab_type": "code",
        "colab": {
          "base_uri": "https://localhost:8080/",
          "height": 102
        },
        "outputId": "6b05975f-d7e0-455c-eba4-cc3febb6b589"
      },
      "source": [
        "# Параметры трубопровода и режима без утечки\n",
        "x_start = 0.0\n",
        "x_end = 368000.0\n",
        "diameter = 1.0\n",
        "viscosity = 1e-5\n",
        "H_start = 550.0\n",
        "H_end = 50.0\n",
        "x_leak = 100000.0\n",
        "q_leak = 0.05    # величина утечки 180 м3/ч\n",
        "\n",
        "sucess_flag, q_before, q_after, q_noleak, H_leak, H_noleak = find_leak_parameters(x_start, x_end, diameter, viscosity, H_start, H_end, x_leak, q_leak)\n",
        "if sucess_flag:\n",
        "  print(\"Результаты:\\n Расход до утечки: {0:0.2f} м3/ч\\n Расход за утечкой: {1:0.2f} м3/ч\".format(q_before*3600, q_after*3600))\n",
        "  print(\" Напор в точке без утечки: {0:0.2f} м\\n Напор в точке с утечкой: {1:0.2f} м\".format(H_noleak, H_leak))\n"
      ],
      "execution_count": null,
      "outputs": [
        {
          "output_type": "stream",
          "text": [
            "Результаты:\n",
            " Расход до утечки: 3691.99 м3/ч\n",
            " Расход за утечкой: 3511.99 м3/ч\n",
            " Напор в точке без утечки: 414.13 м\n",
            " Напор в точке с утечкой: 405.30 м\n"
          ],
          "name": "stdout"
        }
      ]
    },
    {
      "cell_type": "code",
      "metadata": {
        "id": "K7JZQtWNj8mb",
        "colab_type": "code",
        "colab": {
          "base_uri": "https://localhost:8080/",
          "height": 282
        },
        "outputId": "95715cd6-8de1-414b-8ab6-1850f280bd9b"
      },
      "source": [
        "plt.plot([x_start, x_end], [H_start, H_end], label='Профиль без утечки')\n",
        "plt.plot([x_start, x_leak], [H_start, H_leak], 'r', label='Профиль с утечкой')\n",
        "plt.plot([x_leak, x_end], [H_leak, H_end], 'r')\n",
        "plt.annotate('Утечка',xy=(x_leak, H_leak), xytext=(x_leak-2e4,H_leak/2), arrowprops=dict(arrowstyle='->',lw=1.5))\n",
        "plt.grid(True)\n",
        "plt.legend()"
      ],
      "execution_count": null,
      "outputs": [
        {
          "output_type": "execute_result",
          "data": {
            "text/plain": [
              "<matplotlib.legend.Legend at 0x7faeca3f3780>"
            ]
          },
          "metadata": {
            "tags": []
          },
          "execution_count": 85
        },
        {
          "output_type": "display_data",
          "data": {
            "image/png": "[encoded data removed]",
            "text/plain": [
              "<Figure size 432x288 with 1 Axes>"
            ]
          },
          "metadata": {
            "tags": [],
            "needs_background": "light"
          }
        }
      ]
    }
  ]
}